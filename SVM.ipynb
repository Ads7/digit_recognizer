{
 "cells": [
  {
   "cell_type": "code",
   "execution_count": 1,
   "metadata": {},
   "outputs": [],
   "source": [
    "from __future__ import print_function\n",
    "\n",
    "import numpy as np\n",
    "import tensorflow as tf\n",
    "import os"
   ]
  },
  {
   "cell_type": "code",
   "execution_count": 4,
   "metadata": {},
   "outputs": [
    {
     "name": "stdout",
     "output_type": "stream",
     "text": [
      "/Users/aman/Workspace/digit_recognizer\n"
     ]
    }
   ],
   "source": [
    "cwd = os.getcwd()"
   ]
  },
  {
   "cell_type": "code",
   "execution_count": 5,
   "metadata": {},
   "outputs": [
    {
     "name": "stdout",
     "output_type": "stream",
     "text": [
      "Successfully downloaded train-images-idx3-ubyte.gz 9912422 bytes.\n",
      "Extracting /Users/aman/Workspace/digit_recognizer/data/train-images-idx3-ubyte.gz\n",
      "Successfully downloaded train-labels-idx1-ubyte.gz 28881 bytes.\n",
      "Extracting /Users/aman/Workspace/digit_recognizer/data/train-labels-idx1-ubyte.gz\n",
      "Successfully downloaded t10k-images-idx3-ubyte.gz 1648877 bytes.\n",
      "Extracting /Users/aman/Workspace/digit_recognizer/data/t10k-images-idx3-ubyte.gz\n",
      "Successfully downloaded t10k-labels-idx1-ubyte.gz 4542 bytes.\n",
      "Extracting /Users/aman/Workspace/digit_recognizer/data/t10k-labels-idx1-ubyte.gz\n"
     ]
    }
   ],
   "source": [
    "# Import MNIST data\n",
    "from tensorflow.examples.tutorials.mnist import input_data\n",
    "mnist = input_data.read_data_sets(cwd+\"/data/\", one_hot=True)"
   ]
  },
  {
   "cell_type": "code",
   "execution_count": null,
   "metadata": {},
   "outputs": [
    {
     "data": {
      "image/png": "[encoded data removed]",
      "text/plain": [
       "<matplotlib.figure.Figure at 0x112414910>"
      ]
     },
     "metadata": {},
     "output_type": "display_data"
    }
   ],
   "source": [
    "import matplotlib.pyplot as plt\n",
    "\n",
    "# Import datasets, classifiers and performance metrics\n",
    "from sklearn import datasets, svm, metrics\n",
    "\n",
    "# The digits dataset\n",
    "digits = datasets.load_digits()\n",
    "\n",
    "# The data that we are interested in is made of 8x8 images of digits, let's\n",
    "# have a look at the first 4 images, stored in the `images` attribute of the\n",
    "# dataset.  If we were working from image files, we could load them using\n",
    "# matplotlib.pyplot.imread.  Note that each image must have the same size. For these\n",
    "# images, we know which digit they represent: it is given in the 'target' of\n",
    "# the dataset.\n",
    "images_and_labels = list(zip(digits.images, digits.target))\n",
    "from tensorflow.examples.tutorials.mnist import input_data\n",
    "class DigitData(object):\n",
    "    # Step 1 - Define our data\n",
    "    mnist = input_data.read_data_sets(CWD + \"/data/\", one_hot=True)\n",
    "    classses = [0,1,2,3,4,5,6,7,8,9]\n",
    "    # todo remove limit\n",
    "    Xtrn, Ytrn = np.array(mnist.train.images[:50]), np.array(mnist.train.labels[:50])\n",
    "    Xtest, Ytest = np.array(mnist.test.images), np.array(mnist.test.labels)\n",
    "X = DigitData().Xtest[1].reshape([28, 28])\n",
    "plt.gray()\n",
    "plt.imshow(X)\n",
    "\n",
    "for index, (image, label) in enumerate(images_and_labels[:4]):\n",
    "    plt.subplot(2, 4, index + 1)\n",
    "    plt.axis('off')\n",
    "    plt.imshow(image, cmap=plt.cm.gray_r, interpolation='nearest')\n",
    "    plt.title('Training: %i' % label)\n",
    "\n",
    "plt.show()\n"
   ]
  },
  {
   "cell_type": "code",
   "execution_count": null,
   "metadata": {},
   "outputs": [],
   "source": [
    "# SVM for digit recognition \n",
    "# Used for classification, outlier detection, regression\n",
    "# Usually discriminative classification  \n",
    "# Projects digit + emotion classification\n",
    "\n",
    "# Good for small data set\n",
    "\n",
    "# Donald Knuth:  “Premature optimization is root to all evil”\n",
    "# maximising space between classes the line drawn callled hyperplane\n",
    "# hyperlane is n-1 dimension \n",
    "\n",
    "#  linear vs Non linear\n",
    "# nonlinear-> kernel trick\n",
    "#  hinge loss max margin\n",
    "# reguarlizer(1/number of epochs) is tuner if too high overfit  too low underfilt\n",
    "# optimizer -> gradient decent\n",
    "# mis and classification conditions\n",
    "# learning rate for convergence\n",
    "\n",
    "# Pros and Cons associated with SVM\n",
    "\n",
    "# Pros:\n",
    "# It works really well with clear margin of separation\n",
    "# It is effective in high dimensional spaces.\n",
    "# It is effective in cases where number of dimensions is greater than the number of samples.\n",
    "# It uses a subset of training points in the decision function (called support vectors), so it is also memory efficient.\n",
    "# Cons:\n",
    "# It doesn’t perform well, when we have large data set because the required training time is higher\n",
    "# It also doesn’t perform very well, when the data set has more noise i.e. target classes are overlapping\n",
    "# SVM doesn’t directly provide probability estimates, these are calculated using an expensive five-fold cross-validation. It is related SVC method of Python scikit-learn library.\n",
    "import numpy as np\n",
    "from matplotlib import plyplot as plt\n",
    "%mathplotlib inline\n",
    "\n",
    "X=np.array([-2,-4,-1]  )"
   ]
  }
 ],
 "metadata": {
  "kernelspec": {
   "display_name": "Python 2",
   "language": "python",
   "name": "python2"
  },
  "language_info": {
   "codemirror_mode": {
    "name": "ipython",
    "version": 2
   },
   "file_extension": ".py",
   "mimetype": "text/x-python",
   "name": "python",
   "nbconvert_exporter": "python",
   "pygments_lexer": "ipython2",
   "version": "2.7.10"
  }
 },
 "nbformat": 4,
 "nbformat_minor": 2
}
